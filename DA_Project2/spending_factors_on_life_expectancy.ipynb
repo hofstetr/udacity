{
 "cells": [
  {
   "cell_type": "markdown",
   "metadata": {},
   "source": [
    "# Project: Health care spending impacts on life expectancy\n",
    "\n",
    "## Table of Contents\n",
    "<ul>\n",
    "<li><a href=\"#intro\">Introduction</a></li>\n",
    "<li><a href=\"#wrangling\">Data Wrangling</a></li>\n",
    "<li><a href=\"#eda\">Exploratory Data Analysis</a></li>\n",
    "<li><a href=\"#conclusions\">Conclusions</a></li>\n",
    "</ul>"
   ]
  },
  {
   "cell_type": "markdown",
   "metadata": {},
   "source": [
    "<a id='intro'></a>\n",
    "## Introduction\n",
    "\n",
    ">Data on average life expectancy, inflation adjusted income per person per GDP, total health care spending and private health care spending was obtained from gapminder.org. This data is broken down by country and year."
   ]
  },
  {
   "cell_type": "code",
   "execution_count": 1,
   "metadata": {},
   "outputs": [],
   "source": [
    "import pandas as pd\n",
    "import numpy as np\n",
    "import matplotlib.pyplot as plt\n",
    "%matplotlib inline"
   ]
  },
  {
   "cell_type": "markdown",
   "metadata": {},
   "source": [
    "<a id='wrangling'></a>\n",
    "## Data Wrangling\n",
    "\n",
    "> Life expectancy is available through 2018 but health care spending data is only available through 2010. Therefore this analysis will focus on data for 2010.\n",
    "\n",
    "### Data set descriptions:\n",
    "- Life expectancy is the median number of years to live based on current mortality trends.\n",
    "- Income per person is the gross domestic product per person adjusted for differences in purchasing power as well as inflation.\n",
    "- Total health care spending is the total sum of private and public expenditure as a percentage of gross domestic product.\n",
    "- Private health care spending is the percentage of total health expenditure paid by private entities such as commercial insurance or the consumer."
   ]
  },
  {
   "cell_type": "code",
   "execution_count": 2,
   "metadata": {},
   "outputs": [
    {
     "data": {
      "text/html": [
       "<div>\n",
       "<style scoped>\n",
       "    .dataframe tbody tr th:only-of-type {\n",
       "        vertical-align: middle;\n",
       "    }\n",
       "\n",
       "    .dataframe tbody tr th {\n",
       "        vertical-align: top;\n",
       "    }\n",
       "\n",
       "    .dataframe thead th {\n",
       "        text-align: right;\n",
       "    }\n",
       "</style>\n",
       "<table border=\"1\" class=\"dataframe\">\n",
       "  <thead>\n",
       "    <tr style=\"text-align: right;\">\n",
       "      <th></th>\n",
       "      <th>country</th>\n",
       "      <th>life_expectancy</th>\n",
       "    </tr>\n",
       "  </thead>\n",
       "  <tbody>\n",
       "    <tr>\n",
       "      <th>0</th>\n",
       "      <td>Afghanistan</td>\n",
       "      <td>56.2</td>\n",
       "    </tr>\n",
       "    <tr>\n",
       "      <th>1</th>\n",
       "      <td>Albania</td>\n",
       "      <td>76.3</td>\n",
       "    </tr>\n",
       "    <tr>\n",
       "      <th>2</th>\n",
       "      <td>Algeria</td>\n",
       "      <td>76.5</td>\n",
       "    </tr>\n",
       "    <tr>\n",
       "      <th>3</th>\n",
       "      <td>Andorra</td>\n",
       "      <td>82.7</td>\n",
       "    </tr>\n",
       "    <tr>\n",
       "      <th>4</th>\n",
       "      <td>Angola</td>\n",
       "      <td>60.1</td>\n",
       "    </tr>\n",
       "  </tbody>\n",
       "</table>\n",
       "</div>"
      ],
      "text/plain": [
       "       country  life_expectancy\n",
       "0  Afghanistan             56.2\n",
       "1      Albania             76.3\n",
       "2      Algeria             76.5\n",
       "3      Andorra             82.7\n",
       "4       Angola             60.1"
      ]
     },
     "execution_count": 2,
     "metadata": {},
     "output_type": "execute_result"
    }
   ],
   "source": [
    "# Load the life expectancy data\n",
    "life_expectancy = pd.read_csv('life_expectancy_years.csv')\n",
    "\n",
    "# Keeping only the necessary columns\n",
    "life_expectancy = life_expectancy[['country', '2010']]\n",
    "\n",
    "# Rename the column\n",
    "life_expectancy.rename(columns={'2010':'life_expectancy'}, inplace=True)\n",
    "life_expectancy.head()"
   ]
  },
  {
   "cell_type": "code",
   "execution_count": 3,
   "metadata": {},
   "outputs": [
    {
     "data": {
      "text/html": [
       "<div>\n",
       "<style scoped>\n",
       "    .dataframe tbody tr th:only-of-type {\n",
       "        vertical-align: middle;\n",
       "    }\n",
       "\n",
       "    .dataframe tbody tr th {\n",
       "        vertical-align: top;\n",
       "    }\n",
       "\n",
       "    .dataframe thead th {\n",
       "        text-align: right;\n",
       "    }\n",
       "</style>\n",
       "<table border=\"1\" class=\"dataframe\">\n",
       "  <thead>\n",
       "    <tr style=\"text-align: right;\">\n",
       "      <th></th>\n",
       "      <th>country</th>\n",
       "      <th>income_per_capita</th>\n",
       "    </tr>\n",
       "  </thead>\n",
       "  <tbody>\n",
       "    <tr>\n",
       "      <th>0</th>\n",
       "      <td>Afghanistan</td>\n",
       "      <td>1610</td>\n",
       "    </tr>\n",
       "    <tr>\n",
       "      <th>1</th>\n",
       "      <td>Albania</td>\n",
       "      <td>9930</td>\n",
       "    </tr>\n",
       "    <tr>\n",
       "      <th>2</th>\n",
       "      <td>Algeria</td>\n",
       "      <td>12900</td>\n",
       "    </tr>\n",
       "    <tr>\n",
       "      <th>3</th>\n",
       "      <td>Andorra</td>\n",
       "      <td>39000</td>\n",
       "    </tr>\n",
       "    <tr>\n",
       "      <th>4</th>\n",
       "      <td>Angola</td>\n",
       "      <td>5900</td>\n",
       "    </tr>\n",
       "  </tbody>\n",
       "</table>\n",
       "</div>"
      ],
      "text/plain": [
       "       country  income_per_capita\n",
       "0  Afghanistan               1610\n",
       "1      Albania               9930\n",
       "2      Algeria              12900\n",
       "3      Andorra              39000\n",
       "4       Angola               5900"
      ]
     },
     "execution_count": 3,
     "metadata": {},
     "output_type": "execute_result"
    }
   ],
   "source": [
    "# Load the income data\n",
    "person_income = pd.read_csv('income_per_person_gdppercapita_ppp_inflation_adjusted.csv')\n",
    "\n",
    "# Keeping only the necessary columns\n",
    "person_income = person_income[['country', '2010']]\n",
    "\n",
    "# Rename the column\n",
    "person_income.rename(columns={'2010':'income_per_capita'}, inplace=True)\n",
    "person_income.head()"
   ]
  },
  {
   "cell_type": "code",
   "execution_count": 4,
   "metadata": {},
   "outputs": [
    {
     "data": {
      "text/html": [
       "<div>\n",
       "<style scoped>\n",
       "    .dataframe tbody tr th:only-of-type {\n",
       "        vertical-align: middle;\n",
       "    }\n",
       "\n",
       "    .dataframe tbody tr th {\n",
       "        vertical-align: top;\n",
       "    }\n",
       "\n",
       "    .dataframe thead th {\n",
       "        text-align: right;\n",
       "    }\n",
       "</style>\n",
       "<table border=\"1\" class=\"dataframe\">\n",
       "  <thead>\n",
       "    <tr style=\"text-align: right;\">\n",
       "      <th></th>\n",
       "      <th>country</th>\n",
       "      <th>total_health_expenditure</th>\n",
       "    </tr>\n",
       "  </thead>\n",
       "  <tbody>\n",
       "    <tr>\n",
       "      <th>0</th>\n",
       "      <td>Afghanistan</td>\n",
       "      <td>7.58</td>\n",
       "    </tr>\n",
       "    <tr>\n",
       "      <th>1</th>\n",
       "      <td>Albania</td>\n",
       "      <td>6.55</td>\n",
       "    </tr>\n",
       "    <tr>\n",
       "      <th>2</th>\n",
       "      <td>Algeria</td>\n",
       "      <td>4.17</td>\n",
       "    </tr>\n",
       "    <tr>\n",
       "      <th>3</th>\n",
       "      <td>Andorra</td>\n",
       "      <td>7.52</td>\n",
       "    </tr>\n",
       "    <tr>\n",
       "      <th>4</th>\n",
       "      <td>Angola</td>\n",
       "      <td>2.85</td>\n",
       "    </tr>\n",
       "  </tbody>\n",
       "</table>\n",
       "</div>"
      ],
      "text/plain": [
       "       country  total_health_expenditure\n",
       "0  Afghanistan                      7.58\n",
       "1      Albania                      6.55\n",
       "2      Algeria                      4.17\n",
       "3      Andorra                      7.52\n",
       "4       Angola                      2.85"
      ]
     },
     "execution_count": 4,
     "metadata": {},
     "output_type": "execute_result"
    }
   ],
   "source": [
    "# Load the total health expenditure data\n",
    "total_spend = pd.read_csv('total_health_spending_percent_of_gdp.csv')\n",
    "\n",
    "# Keeping only the necessary columns\n",
    "total_spend = total_spend[['country', '2010']]\n",
    "\n",
    "# Rename the column\n",
    "total_spend.rename(columns={'2010': 'total_health_expenditure'}, inplace=True)\n",
    "total_spend.head()"
   ]
  },
  {
   "cell_type": "code",
   "execution_count": 5,
   "metadata": {},
   "outputs": [
    {
     "data": {
      "text/html": [
       "<div>\n",
       "<style scoped>\n",
       "    .dataframe tbody tr th:only-of-type {\n",
       "        vertical-align: middle;\n",
       "    }\n",
       "\n",
       "    .dataframe tbody tr th {\n",
       "        vertical-align: top;\n",
       "    }\n",
       "\n",
       "    .dataframe thead th {\n",
       "        text-align: right;\n",
       "    }\n",
       "</style>\n",
       "<table border=\"1\" class=\"dataframe\">\n",
       "  <thead>\n",
       "    <tr style=\"text-align: right;\">\n",
       "      <th></th>\n",
       "      <th>country</th>\n",
       "      <th>private_health_expenditure</th>\n",
       "    </tr>\n",
       "  </thead>\n",
       "  <tbody>\n",
       "    <tr>\n",
       "      <th>0</th>\n",
       "      <td>Afghanistan</td>\n",
       "      <td>88.3</td>\n",
       "    </tr>\n",
       "    <tr>\n",
       "      <th>1</th>\n",
       "      <td>Albania</td>\n",
       "      <td>61.0</td>\n",
       "    </tr>\n",
       "    <tr>\n",
       "      <th>2</th>\n",
       "      <td>Algeria</td>\n",
       "      <td>22.1</td>\n",
       "    </tr>\n",
       "    <tr>\n",
       "      <th>3</th>\n",
       "      <td>Andorra</td>\n",
       "      <td>29.9</td>\n",
       "    </tr>\n",
       "    <tr>\n",
       "      <th>4</th>\n",
       "      <td>Angola</td>\n",
       "      <td>17.5</td>\n",
       "    </tr>\n",
       "  </tbody>\n",
       "</table>\n",
       "</div>"
      ],
      "text/plain": [
       "       country  private_health_expenditure\n",
       "0  Afghanistan                        88.3\n",
       "1      Albania                        61.0\n",
       "2      Algeria                        22.1\n",
       "3      Andorra                        29.9\n",
       "4       Angola                        17.5"
      ]
     },
     "execution_count": 5,
     "metadata": {},
     "output_type": "execute_result"
    }
   ],
   "source": [
    "# Load the private health expenditure data\n",
    "private_spend = pd.read_csv('private_share_of_total_health_spending_percent.csv')\n",
    "\n",
    "# Keeping only the necessary columns\n",
    "private_spend = private_spend[['country', '2010']]\n",
    "\n",
    "# Rename the column\n",
    "private_spend.rename(columns={'2010': 'private_health_expenditure'}, inplace=True)\n",
    "private_spend.head()"
   ]
  },
  {
   "cell_type": "code",
   "execution_count": 6,
   "metadata": {},
   "outputs": [
    {
     "data": {
      "text/html": [
       "<div>\n",
       "<style scoped>\n",
       "    .dataframe tbody tr th:only-of-type {\n",
       "        vertical-align: middle;\n",
       "    }\n",
       "\n",
       "    .dataframe tbody tr th {\n",
       "        vertical-align: top;\n",
       "    }\n",
       "\n",
       "    .dataframe thead th {\n",
       "        text-align: right;\n",
       "    }\n",
       "</style>\n",
       "<table border=\"1\" class=\"dataframe\">\n",
       "  <thead>\n",
       "    <tr style=\"text-align: right;\">\n",
       "      <th></th>\n",
       "      <th>country</th>\n",
       "      <th>life_expectancy</th>\n",
       "      <th>income_per_capita</th>\n",
       "      <th>total_health_expenditure</th>\n",
       "      <th>private_health_expenditure</th>\n",
       "    </tr>\n",
       "  </thead>\n",
       "  <tbody>\n",
       "    <tr>\n",
       "      <th>0</th>\n",
       "      <td>Afghanistan</td>\n",
       "      <td>56.2</td>\n",
       "      <td>1610</td>\n",
       "      <td>7.58</td>\n",
       "      <td>88.3</td>\n",
       "    </tr>\n",
       "    <tr>\n",
       "      <th>1</th>\n",
       "      <td>Albania</td>\n",
       "      <td>76.3</td>\n",
       "      <td>9930</td>\n",
       "      <td>6.55</td>\n",
       "      <td>61.0</td>\n",
       "    </tr>\n",
       "    <tr>\n",
       "      <th>2</th>\n",
       "      <td>Algeria</td>\n",
       "      <td>76.5</td>\n",
       "      <td>12900</td>\n",
       "      <td>4.17</td>\n",
       "      <td>22.1</td>\n",
       "    </tr>\n",
       "    <tr>\n",
       "      <th>3</th>\n",
       "      <td>Andorra</td>\n",
       "      <td>82.7</td>\n",
       "      <td>39000</td>\n",
       "      <td>7.52</td>\n",
       "      <td>29.9</td>\n",
       "    </tr>\n",
       "    <tr>\n",
       "      <th>4</th>\n",
       "      <td>Angola</td>\n",
       "      <td>60.1</td>\n",
       "      <td>5900</td>\n",
       "      <td>2.85</td>\n",
       "      <td>17.5</td>\n",
       "    </tr>\n",
       "  </tbody>\n",
       "</table>\n",
       "</div>"
      ],
      "text/plain": [
       "       country  life_expectancy  income_per_capita  total_health_expenditure  \\\n",
       "0  Afghanistan             56.2               1610                      7.58   \n",
       "1      Albania             76.3               9930                      6.55   \n",
       "2      Algeria             76.5              12900                      4.17   \n",
       "3      Andorra             82.7              39000                      7.52   \n",
       "4       Angola             60.1               5900                      2.85   \n",
       "\n",
       "   private_health_expenditure  \n",
       "0                        88.3  \n",
       "1                        61.0  \n",
       "2                        22.1  \n",
       "3                        29.9  \n",
       "4                        17.5  "
      ]
     },
     "execution_count": 6,
     "metadata": {},
     "output_type": "execute_result"
    }
   ],
   "source": [
    "# Join the data sets on country using an inner join to ensure completeness of data\n",
    "combined_data = life_expectancy.merge(person_income, on='country', how='inner')\n",
    "combined_data = combined_data.merge(total_spend, on='country', how='inner')\n",
    "combined_data = combined_data.merge(private_spend, on='country', how='inner')\n",
    "combined_data.head()"
   ]
  },
  {
   "cell_type": "code",
   "execution_count": 7,
   "metadata": {},
   "outputs": [
    {
     "name": "stdout",
     "output_type": "stream",
     "text": [
      "<class 'pandas.core.frame.DataFrame'>\n",
      "Int64Index: 184 entries, 0 to 183\n",
      "Data columns (total 5 columns):\n",
      "country                       184 non-null object\n",
      "life_expectancy               184 non-null float64\n",
      "income_per_capita             184 non-null int64\n",
      "total_health_expenditure      179 non-null float64\n",
      "private_health_expenditure    179 non-null float64\n",
      "dtypes: float64(3), int64(1), object(1)\n",
      "memory usage: 8.6+ KB\n"
     ]
    }
   ],
   "source": [
    "# Check data types and missing data\n",
    "combined_data.info()"
   ]
  },
  {
   "cell_type": "code",
   "execution_count": 8,
   "metadata": {},
   "outputs": [
    {
     "data": {
      "text/html": [
       "<div>\n",
       "<style scoped>\n",
       "    .dataframe tbody tr th:only-of-type {\n",
       "        vertical-align: middle;\n",
       "    }\n",
       "\n",
       "    .dataframe tbody tr th {\n",
       "        vertical-align: top;\n",
       "    }\n",
       "\n",
       "    .dataframe thead th {\n",
       "        text-align: right;\n",
       "    }\n",
       "</style>\n",
       "<table border=\"1\" class=\"dataframe\">\n",
       "  <thead>\n",
       "    <tr style=\"text-align: right;\">\n",
       "      <th></th>\n",
       "      <th>life_expectancy</th>\n",
       "      <th>income_per_capita</th>\n",
       "      <th>total_health_expenditure</th>\n",
       "      <th>private_health_expenditure</th>\n",
       "    </tr>\n",
       "  </thead>\n",
       "  <tbody>\n",
       "    <tr>\n",
       "      <th>count</th>\n",
       "      <td>184.000000</td>\n",
       "      <td>184.000000</td>\n",
       "      <td>179.000000</td>\n",
       "      <td>179.000000</td>\n",
       "    </tr>\n",
       "    <tr>\n",
       "      <th>mean</th>\n",
       "      <td>70.280978</td>\n",
       "      <td>16435.309783</td>\n",
       "      <td>6.866760</td>\n",
       "      <td>41.654190</td>\n",
       "    </tr>\n",
       "    <tr>\n",
       "      <th>std</th>\n",
       "      <td>9.078993</td>\n",
       "      <td>18779.424785</td>\n",
       "      <td>2.829904</td>\n",
       "      <td>19.619734</td>\n",
       "    </tr>\n",
       "    <tr>\n",
       "      <th>min</th>\n",
       "      <td>32.100000</td>\n",
       "      <td>609.000000</td>\n",
       "      <td>1.810000</td>\n",
       "      <td>6.610000</td>\n",
       "    </tr>\n",
       "    <tr>\n",
       "      <th>25%</th>\n",
       "      <td>63.950000</td>\n",
       "      <td>3310.000000</td>\n",
       "      <td>4.920000</td>\n",
       "      <td>25.450000</td>\n",
       "    </tr>\n",
       "    <tr>\n",
       "      <th>50%</th>\n",
       "      <td>72.900000</td>\n",
       "      <td>9925.000000</td>\n",
       "      <td>6.470000</td>\n",
       "      <td>39.700000</td>\n",
       "    </tr>\n",
       "    <tr>\n",
       "      <th>75%</th>\n",
       "      <td>76.725000</td>\n",
       "      <td>21925.000000</td>\n",
       "      <td>8.600000</td>\n",
       "      <td>55.750000</td>\n",
       "    </tr>\n",
       "    <tr>\n",
       "      <th>max</th>\n",
       "      <td>82.800000</td>\n",
       "      <td>125000.000000</td>\n",
       "      <td>18.100000</td>\n",
       "      <td>90.000000</td>\n",
       "    </tr>\n",
       "  </tbody>\n",
       "</table>\n",
       "</div>"
      ],
      "text/plain": [
       "       life_expectancy  income_per_capita  total_health_expenditure  \\\n",
       "count       184.000000         184.000000                179.000000   \n",
       "mean         70.280978       16435.309783                  6.866760   \n",
       "std           9.078993       18779.424785                  2.829904   \n",
       "min          32.100000         609.000000                  1.810000   \n",
       "25%          63.950000        3310.000000                  4.920000   \n",
       "50%          72.900000        9925.000000                  6.470000   \n",
       "75%          76.725000       21925.000000                  8.600000   \n",
       "max          82.800000      125000.000000                 18.100000   \n",
       "\n",
       "       private_health_expenditure  \n",
       "count                  179.000000  \n",
       "mean                    41.654190  \n",
       "std                     19.619734  \n",
       "min                      6.610000  \n",
       "25%                     25.450000  \n",
       "50%                     39.700000  \n",
       "75%                     55.750000  \n",
       "max                     90.000000  "
      ]
     },
     "execution_count": 8,
     "metadata": {},
     "output_type": "execute_result"
    }
   ],
   "source": [
    "# Generate descriptive statistics to aid future analysis.\n",
    "combined_data.describe()"
   ]
  },
  {
   "cell_type": "markdown",
   "metadata": {},
   "source": [
    "### Data Cleansing\n",
    "> Several countries are missing information about health care spending for the time frame selected. Those countries wil be excluded from this analysis. Also, health care expenditures are expressed as percentages and need to be converted into amounts based on income per capita."
   ]
  },
  {
   "cell_type": "code",
   "execution_count": 9,
   "metadata": {
    "scrolled": true
   },
   "outputs": [
    {
     "name": "stdout",
     "output_type": "stream",
     "text": [
      "<class 'pandas.core.frame.DataFrame'>\n",
      "Int64Index: 179 entries, 0 to 182\n",
      "Data columns (total 5 columns):\n",
      "country                       179 non-null object\n",
      "life_expectancy               179 non-null float64\n",
      "income_per_capita             179 non-null int64\n",
      "total_health_expenditure      179 non-null float64\n",
      "private_health_expenditure    179 non-null float64\n",
      "dtypes: float64(3), int64(1), object(1)\n",
      "memory usage: 8.4+ KB\n"
     ]
    }
   ],
   "source": [
    "# Drop the countries with missing health expenditure data\n",
    "combined_data.dropna(inplace=True)\n",
    "\n",
    "# Confirm there are no more rows missing data\n",
    "combined_data.info()"
   ]
  },
  {
   "cell_type": "code",
   "execution_count": 10,
   "metadata": {},
   "outputs": [
    {
     "data": {
      "text/html": [
       "<div>\n",
       "<style scoped>\n",
       "    .dataframe tbody tr th:only-of-type {\n",
       "        vertical-align: middle;\n",
       "    }\n",
       "\n",
       "    .dataframe tbody tr th {\n",
       "        vertical-align: top;\n",
       "    }\n",
       "\n",
       "    .dataframe thead th {\n",
       "        text-align: right;\n",
       "    }\n",
       "</style>\n",
       "<table border=\"1\" class=\"dataframe\">\n",
       "  <thead>\n",
       "    <tr style=\"text-align: right;\">\n",
       "      <th></th>\n",
       "      <th>country</th>\n",
       "      <th>life_expectancy</th>\n",
       "      <th>income_per_capita</th>\n",
       "      <th>total_health_expenditure</th>\n",
       "      <th>private_health_expenditure</th>\n",
       "    </tr>\n",
       "  </thead>\n",
       "  <tbody>\n",
       "    <tr>\n",
       "      <th>0</th>\n",
       "      <td>Afghanistan</td>\n",
       "      <td>56.2</td>\n",
       "      <td>1610</td>\n",
       "      <td>122.038</td>\n",
       "      <td>88.3</td>\n",
       "    </tr>\n",
       "    <tr>\n",
       "      <th>1</th>\n",
       "      <td>Albania</td>\n",
       "      <td>76.3</td>\n",
       "      <td>9930</td>\n",
       "      <td>650.415</td>\n",
       "      <td>61.0</td>\n",
       "    </tr>\n",
       "    <tr>\n",
       "      <th>2</th>\n",
       "      <td>Algeria</td>\n",
       "      <td>76.5</td>\n",
       "      <td>12900</td>\n",
       "      <td>537.930</td>\n",
       "      <td>22.1</td>\n",
       "    </tr>\n",
       "    <tr>\n",
       "      <th>3</th>\n",
       "      <td>Andorra</td>\n",
       "      <td>82.7</td>\n",
       "      <td>39000</td>\n",
       "      <td>2932.800</td>\n",
       "      <td>29.9</td>\n",
       "    </tr>\n",
       "    <tr>\n",
       "      <th>4</th>\n",
       "      <td>Angola</td>\n",
       "      <td>60.1</td>\n",
       "      <td>5900</td>\n",
       "      <td>168.150</td>\n",
       "      <td>17.5</td>\n",
       "    </tr>\n",
       "  </tbody>\n",
       "</table>\n",
       "</div>"
      ],
      "text/plain": [
       "       country  life_expectancy  income_per_capita  total_health_expenditure  \\\n",
       "0  Afghanistan             56.2               1610                   122.038   \n",
       "1      Albania             76.3               9930                   650.415   \n",
       "2      Algeria             76.5              12900                   537.930   \n",
       "3      Andorra             82.7              39000                  2932.800   \n",
       "4       Angola             60.1               5900                   168.150   \n",
       "\n",
       "   private_health_expenditure  \n",
       "0                        88.3  \n",
       "1                        61.0  \n",
       "2                        22.1  \n",
       "3                        29.9  \n",
       "4                        17.5  "
      ]
     },
     "execution_count": 10,
     "metadata": {},
     "output_type": "execute_result"
    }
   ],
   "source": [
    "# The total health care expenditure is a percentage of the gross domestic product.\n",
    "# Calculate the amount for future comparison\n",
    "combined_data['total_health_expenditure'] = combined_data['income_per_capita'] * (combined_data['total_health_expenditure'] / 100)\n",
    "combined_data.head()"
   ]
  },
  {
   "cell_type": "code",
   "execution_count": 11,
   "metadata": {},
   "outputs": [
    {
     "data": {
      "text/html": [
       "<div>\n",
       "<style scoped>\n",
       "    .dataframe tbody tr th:only-of-type {\n",
       "        vertical-align: middle;\n",
       "    }\n",
       "\n",
       "    .dataframe tbody tr th {\n",
       "        vertical-align: top;\n",
       "    }\n",
       "\n",
       "    .dataframe thead th {\n",
       "        text-align: right;\n",
       "    }\n",
       "</style>\n",
       "<table border=\"1\" class=\"dataframe\">\n",
       "  <thead>\n",
       "    <tr style=\"text-align: right;\">\n",
       "      <th></th>\n",
       "      <th>country</th>\n",
       "      <th>life_expectancy</th>\n",
       "      <th>income_per_capita</th>\n",
       "      <th>total_health_expenditure</th>\n",
       "      <th>private_health_expenditure</th>\n",
       "    </tr>\n",
       "  </thead>\n",
       "  <tbody>\n",
       "    <tr>\n",
       "      <th>0</th>\n",
       "      <td>Afghanistan</td>\n",
       "      <td>56.2</td>\n",
       "      <td>1610</td>\n",
       "      <td>122.038</td>\n",
       "      <td>107.759554</td>\n",
       "    </tr>\n",
       "    <tr>\n",
       "      <th>1</th>\n",
       "      <td>Albania</td>\n",
       "      <td>76.3</td>\n",
       "      <td>9930</td>\n",
       "      <td>650.415</td>\n",
       "      <td>396.753150</td>\n",
       "    </tr>\n",
       "    <tr>\n",
       "      <th>2</th>\n",
       "      <td>Algeria</td>\n",
       "      <td>76.5</td>\n",
       "      <td>12900</td>\n",
       "      <td>537.930</td>\n",
       "      <td>118.882530</td>\n",
       "    </tr>\n",
       "    <tr>\n",
       "      <th>3</th>\n",
       "      <td>Andorra</td>\n",
       "      <td>82.7</td>\n",
       "      <td>39000</td>\n",
       "      <td>2932.800</td>\n",
       "      <td>876.907200</td>\n",
       "    </tr>\n",
       "    <tr>\n",
       "      <th>4</th>\n",
       "      <td>Angola</td>\n",
       "      <td>60.1</td>\n",
       "      <td>5900</td>\n",
       "      <td>168.150</td>\n",
       "      <td>29.426250</td>\n",
       "    </tr>\n",
       "  </tbody>\n",
       "</table>\n",
       "</div>"
      ],
      "text/plain": [
       "       country  life_expectancy  income_per_capita  total_health_expenditure  \\\n",
       "0  Afghanistan             56.2               1610                   122.038   \n",
       "1      Albania             76.3               9930                   650.415   \n",
       "2      Algeria             76.5              12900                   537.930   \n",
       "3      Andorra             82.7              39000                  2932.800   \n",
       "4       Angola             60.1               5900                   168.150   \n",
       "\n",
       "   private_health_expenditure  \n",
       "0                  107.759554  \n",
       "1                  396.753150  \n",
       "2                  118.882530  \n",
       "3                  876.907200  \n",
       "4                   29.426250  "
      ]
     },
     "execution_count": 11,
     "metadata": {},
     "output_type": "execute_result"
    }
   ],
   "source": [
    "# The private health care expenditure is a percentage of the total health expenditure.\n",
    "# Calculate the amount for future comparison\n",
    "combined_data['private_health_expenditure'] = combined_data['total_health_expenditure'] * (combined_data['private_health_expenditure'] / 100)\n",
    "combined_data.head()"
   ]
  },
  {
   "cell_type": "markdown",
   "metadata": {},
   "source": [
    "<a id='eda'></a>\n",
    "## Exploratory Data Analysis\n",
    "\n",
    "### Does income effect life expectancy?"
   ]
  },
  {
   "cell_type": "code",
   "execution_count": 12,
   "metadata": {
    "scrolled": true
   },
   "outputs": [
    {
     "data": {
      "image/png": "[encoded data removed]",
      "text/plain": [
       "<Figure size 432x288 with 1 Axes>"
      ]
     },
     "metadata": {
      "needs_background": "light"
     },
     "output_type": "display_data"
    }
   ],
   "source": [
    "# Create new dataframes based on the percentiles for income\n",
    "top_countries = combined_data.query('income_per_capita >= 21925.00')\n",
    "bottom_countries = combined_data.query('income_per_capita <= 3310.00')\n",
    "\n",
    "# Calculate the mean life expectancy of the two groups of countries\n",
    "top_mean = top_countries['life_expectancy'].mean()\n",
    "bottom_mean = bottom_countries['life_expectancy'].mean()\n",
    "\n",
    "# Plot a simple bar chart of the two values\n",
    "locations = [1, 2]\n",
    "heights = [top_mean, bottom_mean]\n",
    "labels = ['75th Percentile', '25th Percentile']\n",
    "plt.bar(locations, heights, tick_label=labels)\n",
    "plt.title('Comparison of Average Life Expectancy')\n",
    "plt.xlabel('Income Group')\n",
    "plt.ylabel('Average Life Expectancy');"
   ]
  },
  {
   "cell_type": "markdown",
   "metadata": {},
   "source": [
    "### What countries had the longest life expectency and what is their income per capita?"
   ]
  },
  {
   "cell_type": "code",
   "execution_count": 13,
   "metadata": {
    "scrolled": false
   },
   "outputs": [
    {
     "data": {
      "image/png": "[encoded data removed]",
      "text/plain": [
       "<Figure size 1440x720 with 2 Axes>"
      ]
     },
     "metadata": {
      "needs_background": "light"
     },
     "output_type": "display_data"
    }
   ],
   "source": [
    "# Select the countries where the life expectancy was in the 75th percentile \n",
    "top_countries = combined_data.query('life_expectancy >= 76.725')\n",
    "\n",
    "# Sort the life expectency in descending order\n",
    "top_countries = top_countries.sort_values('life_expectancy', ascending=False)\n",
    "\n",
    "# Use a bar chart to visualize the top countries\n",
    "fig, ax1 = plt.subplots(figsize=(20,10))\n",
    "color = 'tab:blue'\n",
    "ax1.set_ylabel('Average Life Expectancy', color=color)\n",
    "ax1.bar(top_countries['country'], top_countries['life_expectancy'], alpha=0.5, color=color)\n",
    "ax1.tick_params(axis='y', labelcolor=color)\n",
    "ax1.tick_params(axis='x', labelrotation=90)\n",
    "\n",
    "ax2 = ax1.twinx()  # instantiate a second axes that shares the same x-axis\n",
    "\n",
    "color = 'tab:green'\n",
    "ax2.set_ylabel('Income Per Capita', color=color)\n",
    "ax2.bar(top_countries['country'], top_countries['income_per_capita'], alpha=0.5, color=color)\n",
    "ax2.tick_params(axis='y', labelcolor=color)\n",
    "\n",
    "fig.tight_layout()\n",
    "plt.title('Life expectancy and Income for Top Countries')\n",
    "plt.show();"
   ]
  },
  {
   "cell_type": "code",
   "execution_count": 14,
   "metadata": {
    "scrolled": true
   },
   "outputs": [
    {
     "data": {
      "text/html": [
       "<div>\n",
       "<style scoped>\n",
       "    .dataframe tbody tr th:only-of-type {\n",
       "        vertical-align: middle;\n",
       "    }\n",
       "\n",
       "    .dataframe tbody tr th {\n",
       "        vertical-align: top;\n",
       "    }\n",
       "\n",
       "    .dataframe thead th {\n",
       "        text-align: right;\n",
       "    }\n",
       "</style>\n",
       "<table border=\"1\" class=\"dataframe\">\n",
       "  <thead>\n",
       "    <tr style=\"text-align: right;\">\n",
       "      <th></th>\n",
       "      <th>country</th>\n",
       "      <th>life_expectancy</th>\n",
       "      <th>income_per_capita</th>\n",
       "      <th>total_health_expenditure</th>\n",
       "      <th>private_health_expenditure</th>\n",
       "    </tr>\n",
       "  </thead>\n",
       "  <tbody>\n",
       "    <tr>\n",
       "      <th>133</th>\n",
       "      <td>Qatar</td>\n",
       "      <td>79.5</td>\n",
       "      <td>125000</td>\n",
       "      <td>2262.50</td>\n",
       "      <td>511.32500</td>\n",
       "    </tr>\n",
       "    <tr>\n",
       "      <th>97</th>\n",
       "      <td>Luxembourg</td>\n",
       "      <td>81.3</td>\n",
       "      <td>91700</td>\n",
       "      <td>7125.09</td>\n",
       "      <td>1111.51404</td>\n",
       "    </tr>\n",
       "    <tr>\n",
       "      <th>24</th>\n",
       "      <td>Brunei</td>\n",
       "      <td>77.1</td>\n",
       "      <td>80600</td>\n",
       "      <td>2289.04</td>\n",
       "      <td>345.64504</td>\n",
       "    </tr>\n",
       "    <tr>\n",
       "      <th>88</th>\n",
       "      <td>Kuwait</td>\n",
       "      <td>78.2</td>\n",
       "      <td>75200</td>\n",
       "      <td>1977.76</td>\n",
       "      <td>387.64096</td>\n",
       "    </tr>\n",
       "    <tr>\n",
       "      <th>144</th>\n",
       "      <td>Singapore</td>\n",
       "      <td>82.7</td>\n",
       "      <td>72100</td>\n",
       "      <td>2855.16</td>\n",
       "      <td>1818.73692</td>\n",
       "    </tr>\n",
       "    <tr>\n",
       "      <th>123</th>\n",
       "      <td>Norway</td>\n",
       "      <td>81.0</td>\n",
       "      <td>62300</td>\n",
       "      <td>5906.04</td>\n",
       "      <td>950.87244</td>\n",
       "    </tr>\n",
       "    <tr>\n",
       "      <th>159</th>\n",
       "      <td>Switzerland</td>\n",
       "      <td>82.2</td>\n",
       "      <td>55500</td>\n",
       "      <td>6382.50</td>\n",
       "      <td>2616.82500</td>\n",
       "    </tr>\n",
       "    <tr>\n",
       "      <th>175</th>\n",
       "      <td>United States</td>\n",
       "      <td>78.7</td>\n",
       "      <td>49400</td>\n",
       "      <td>8842.60</td>\n",
       "      <td>4147.17940</td>\n",
       "    </tr>\n",
       "    <tr>\n",
       "      <th>79</th>\n",
       "      <td>Ireland</td>\n",
       "      <td>80.4</td>\n",
       "      <td>45700</td>\n",
       "      <td>4199.83</td>\n",
       "      <td>1293.54764</td>\n",
       "    </tr>\n",
       "    <tr>\n",
       "      <th>118</th>\n",
       "      <td>Netherlands</td>\n",
       "      <td>80.7</td>\n",
       "      <td>45500</td>\n",
       "      <td>5414.50</td>\n",
       "      <td>736.37200</td>\n",
       "    </tr>\n",
       "  </tbody>\n",
       "</table>\n",
       "</div>"
      ],
      "text/plain": [
       "           country  life_expectancy  income_per_capita  \\\n",
       "133          Qatar             79.5             125000   \n",
       "97      Luxembourg             81.3              91700   \n",
       "24          Brunei             77.1              80600   \n",
       "88          Kuwait             78.2              75200   \n",
       "144      Singapore             82.7              72100   \n",
       "123         Norway             81.0              62300   \n",
       "159    Switzerland             82.2              55500   \n",
       "175  United States             78.7              49400   \n",
       "79         Ireland             80.4              45700   \n",
       "118    Netherlands             80.7              45500   \n",
       "\n",
       "     total_health_expenditure  private_health_expenditure  \n",
       "133                   2262.50                   511.32500  \n",
       "97                    7125.09                  1111.51404  \n",
       "24                    2289.04                   345.64504  \n",
       "88                    1977.76                   387.64096  \n",
       "144                   2855.16                  1818.73692  \n",
       "123                   5906.04                   950.87244  \n",
       "159                   6382.50                  2616.82500  \n",
       "175                   8842.60                  4147.17940  \n",
       "79                    4199.83                  1293.54764  \n",
       "118                   5414.50                   736.37200  "
      ]
     },
     "execution_count": 14,
     "metadata": {},
     "output_type": "execute_result"
    }
   ],
   "source": [
    "# Sort on income to see where the United States falls\n",
    "top_countries = top_countries.sort_values('income_per_capita', ascending=False)\n",
    "top_countries.head(10)"
   ]
  },
  {
   "cell_type": "markdown",
   "metadata": {},
   "source": [
    "### What countries have the lowest life expectency and what is their income per capita?"
   ]
  },
  {
   "cell_type": "code",
   "execution_count": 15,
   "metadata": {},
   "outputs": [
    {
     "data": {
      "image/png": "[encoded data removed]",
      "text/plain": [
       "<Figure size 1440x720 with 2 Axes>"
      ]
     },
     "metadata": {
      "needs_background": "light"
     },
     "output_type": "display_data"
    }
   ],
   "source": [
    "# Select the countries where the life expectancy is in the 25th percentile \n",
    "bottom_countries = combined_data.query('life_expectancy <= 63.95')\n",
    "\n",
    "# Sort the life expectency in ascending order\n",
    "bottom_countries = bottom_countries.sort_values('life_expectancy', ascending=True)\n",
    "\n",
    "# Use a bar chart to visualize the bottom countries\n",
    "fig, ax1 = plt.subplots(figsize=(20,10))\n",
    "color = 'tab:blue'\n",
    "ax1.set_ylabel('Average Life Expectancy', color=color)\n",
    "ax1.bar(bottom_countries['country'], bottom_countries['life_expectancy'], alpha=0.5, color=color)\n",
    "ax1.tick_params(axis='y', labelcolor=color)\n",
    "ax1.tick_params(axis='x', labelrotation=90)\n",
    "\n",
    "ax2 = ax1.twinx()  # instantiate a second axes that shares the same x-axis\n",
    "\n",
    "color = 'tab:green'\n",
    "ax2.set_ylabel('Income Per Capita', color=color)\n",
    "ax2.bar(bottom_countries['country'], bottom_countries['income_per_capita'], alpha=0.5, color=color)\n",
    "ax2.tick_params(axis='y', labelcolor=color)\n",
    "\n",
    "fig.tight_layout()\n",
    "plt.title('Life expectancy and Income for Bottom Countries')\n",
    "plt.show();"
   ]
  },
  {
   "cell_type": "markdown",
   "metadata": {},
   "source": [
    "### Does private health care spending effect life expectancy more than total health care spending?"
   ]
  },
  {
   "cell_type": "code",
   "execution_count": 16,
   "metadata": {},
   "outputs": [
    {
     "data": {
      "image/png": "[encoded data removed]",
      "text/plain": [
       "<Figure size 1440x720 with 1 Axes>"
      ]
     },
     "metadata": {
      "needs_background": "light"
     },
     "output_type": "display_data"
    }
   ],
   "source": [
    "# Calculate the mean total and private health expenditures for the two groups of countries\n",
    "top_mean_private = top_countries['private_health_expenditure'].mean()\n",
    "bottom_mean_private = bottom_countries['private_health_expenditure'].mean()\n",
    "top_mean_total = top_countries['total_health_expenditure'].mean()\n",
    "bottom_mean_total = bottom_countries['total_health_expenditure'].mean()\n",
    "\n",
    "# Plot a combo bar chart of the two values for the two groups\n",
    "locations = [1, 2, 3, 4]\n",
    "heights = [top_mean_total, top_mean_private, bottom_mean_total, bottom_mean_private]\n",
    "labels = ['75th Percentile', '25th Percentile']\n",
    "\n",
    "x = np.arange(len(labels))  # the label locations\n",
    "width = 0.35  # the width of the bars\n",
    "\n",
    "fig, ax = plt.subplots(figsize=(20,10))\n",
    "rects1 = ax.bar(x - width/2, [top_mean_total, bottom_mean_total], width, label='Total Health Expediture')\n",
    "rects2 = ax.bar(x + width/2, [top_mean_private, bottom_mean_private], width, label='Private Health Expenditure')\n",
    "\n",
    "# Add some text for labels, title and custom x-axis tick labels, etc.\n",
    "ax.set_ylabel('Expenditure')\n",
    "ax.set_title('Comparison of Health Expenditures')\n",
    "ax.set_xticks(x)\n",
    "ax.set_xticklabels(labels)\n",
    "ax.legend()\n",
    "\n",
    "fig.tight_layout()\n",
    "\n",
    "plt.show()"
   ]
  },
  {
   "cell_type": "markdown",
   "metadata": {},
   "source": [
    "<a id='conclusions'></a>\n",
    "## Conclusions\n",
    "\n",
    "> Countries with more income per capita had longer life expectancy.\n",
    "\n",
    "> Income per capita alone doesn't appear to determine life expectancy. The United States was in the top 10 for income per capita but didn't even crack the top 30 for life expectancy.\n",
    "\n",
    "> Countries with longer life expectancy spent more overall on health care and considerably more through social programs than privately.\n",
    "\n",
    "> More current data on health expenditures could change these results."
   ]
  },
  {
   "cell_type": "code",
   "execution_count": null,
   "metadata": {},
   "outputs": [],
   "source": []
  }
 ],
 "metadata": {
  "kernelspec": {
   "display_name": "Python 3",
   "language": "python",
   "name": "python3"
  },
  "language_info": {
   "codemirror_mode": {
    "name": "ipython",
    "version": 3
   },
   "file_extension": ".py",
   "mimetype": "text/x-python",
   "name": "python",
   "nbconvert_exporter": "python",
   "pygments_lexer": "ipython3",
   "version": "3.7.5"
  }
 },
 "nbformat": 4,
 "nbformat_minor": 2
}
